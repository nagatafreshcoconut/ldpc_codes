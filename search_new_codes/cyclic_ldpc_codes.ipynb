{
 "cells": [
  {
   "attachments": {},
   "cell_type": "markdown",
   "metadata": {},
   "source": [
    "# Determine the [n, k, d] code configuration for a given polynomial A and B"
   ]
  },
  {
   "attachments": {},
   "cell_type": "markdown",
   "metadata": {},
   "source": [
    "#### Imports"
   ]
  },
  {
   "cell_type": "code",
   "execution_count": 1,
   "metadata": {},
   "outputs": [],
   "source": [
    "import pickle\n",
    "with open('/Users/lukasvoss/Documents/Persönliche Unterlagen/Singapur 2023-2024/03_AStar_KishorBharti/02_Research/ldpc_codes/intermediate_results_decoding/slice_l2-3_m2-3_weight4-7/codes_decoded_BPOSD.pickle', 'rb') as f:\n",
    "    data = pickle.load(f)"
   ]
  },
  {
   "cell_type": "code",
   "execution_count": 4,
   "metadata": {},
   "outputs": [
    {
     "data": {
      "text/plain": [
       "{'effective_error_list': array([], shape=(20, 1000, 0), dtype=int64),\n",
       " 'error_rate': [0.001,\n",
       "  0.0013372338725601038,\n",
       "  0.0017881944299220917,\n",
       "  0.0023912341624151255,\n",
       "  0.003197639319204394,\n",
       "  0.0042759916098701455,\n",
       "  0.0057180008195011674,\n",
       "  0.0076463043791634,\n",
       "  0.010224897215721947,\n",
       "  0.013673078900308883,\n",
       "  0.01828410424767989,\n",
       "  0.02445012352941762,\n",
       "  0.032695533371816056,\n",
       "  0.043721574706211686,\n",
       "  0.05846597065881333,\n",
       "  0.07818267635707035,\n",
       "  0.10454852307207844,\n",
       "  0.1398058263781148,\n",
       "  0.18695308661407195,\n",
       "  0.25]}"
      ]
     },
     "execution_count": 4,
     "metadata": {},
     "output_type": "execute_result"
    }
   ],
   "source": [
    "data[4][0]['decoding_results']"
   ]
  },
  {
   "cell_type": "code",
   "execution_count": 1,
   "metadata": {},
   "outputs": [],
   "source": [
    "import sys\n",
    "import io\n",
    "import numpy as np\n",
    "import re\n",
    "import time\n",
    "from numpy.linalg import matrix_power as matrix_power\n",
    "from numpy.linalg import matrix_rank as matrix_rank\n",
    "from itertools import product\n",
    "\n",
    "from mip import Model, xsum, minimize, BINARY\n",
    "from bposd.css import css_code\n",
    "from concurrent.futures import ThreadPoolExecutor"
   ]
  },
  {
   "cell_type": "code",
   "execution_count": 2,
   "metadata": {},
   "outputs": [],
   "source": [
    "# Function to create the cyclic shift matrix S_l of size lxl\n",
    "def get_cyclic_shift_matrix_S(l: int):\n",
    "    S_l = np.roll(np.eye(l), 1, axis=1)\n",
    "    return S_l\n",
    "\n",
    "# Function to evaluate a polynomial at a matrix\n",
    "def get_matrix_polynomial(poly, x, y):\n",
    "    # Define a regular expression pattern to match 'x' or 'y' followed by numbers\n",
    "    pattern = r'([xy])(\\d*)'\n",
    "\n",
    "    # Split the input string into individual terms\n",
    "    terms = poly.split('+')\n",
    "\n",
    "    # Initialize the result matrix as an identity matrix\n",
    "    result_matrix = np.zeros_like(x)\n",
    "\n",
    "    # Process each term separately\n",
    "    for term in terms:\n",
    "        # Find all matches in the term\n",
    "        matches = re.findall(pattern, term)\n",
    "        \n",
    "        # Initialize the term result matrix as an identity matrix\n",
    "        term_result_matrix = np.eye(x.shape[0])\n",
    "        \n",
    "        # Iterate through the matches and perform matrix multiplication with the corresponding exponents\n",
    "        for match in matches:\n",
    "            matrix_name = match[0]\n",
    "            exponent = int(match[1]) if match[1] else 1\n",
    "            \n",
    "            if matrix_name == 'x':\n",
    "                term_result_matrix = np.dot(term_result_matrix, matrix_power(x, exponent))\n",
    "            elif matrix_name == 'y':\n",
    "                term_result_matrix = np.dot(term_result_matrix, matrix_power(y, exponent))\n",
    "        \n",
    "        # Add the term result matrix to the overall result matrix\n",
    "        result_matrix += term_result_matrix\n",
    "    \n",
    "    return result_matrix % 2"
   ]
  },
  {
   "attachments": {},
   "cell_type": "markdown",
   "metadata": {},
   "source": [
    "#### Choose Parameters"
   ]
  },
  {
   "cell_type": "code",
   "execution_count": 3,
   "metadata": {},
   "outputs": [],
   "source": [
    "l = 8\n",
    "m = 8\n",
    "\n",
    "A_polynomial = 'x3 + y3 + y2 + y6'\n",
    "B_polynomial = 'y3 + x3 + x2 + x6'"
   ]
  },
  {
   "cell_type": "code",
   "execution_count": 4,
   "metadata": {},
   "outputs": [],
   "source": [
    "# Create the identity matrices I_ℓ and I_m\n",
    "I_l = np.eye(l)\n",
    "I_m = np.eye(m)\n",
    "\n",
    "# Create the cyclic shift matrices S_ℓ and S_m\n",
    "S_l = get_cyclic_shift_matrix_S(l)\n",
    "S_m = get_cyclic_shift_matrix_S(m)\n",
    "\n",
    "# Create matrices x and y based on the tensor product\n",
    "x = np.kron(S_l, I_m)\n",
    "y = np.kron(I_l, S_m)\n",
    "\n",
    "A = get_matrix_polynomial(A_polynomial, x, y)\n",
    "B = get_matrix_polynomial(B_polynomial, x, y)"
   ]
  },
  {
   "attachments": {},
   "cell_type": "markdown",
   "metadata": {},
   "source": [
    "##### Sanity Check"
   ]
  },
  {
   "cell_type": "code",
   "execution_count": 5,
   "metadata": {},
   "outputs": [
    {
     "name": "stdout",
     "output_type": "stream",
     "text": [
      "x3 + y3 + y2 + y6\n"
     ]
    }
   ],
   "source": [
    "print(A_polynomial)\n"
   ]
  },
  {
   "cell_type": "code",
   "execution_count": 6,
   "metadata": {},
   "outputs": [
    {
     "name": "stdout",
     "output_type": "stream",
     "text": [
      "y3 + x3 + x2 + x6\n"
     ]
    }
   ],
   "source": [
    "print(B_polynomial)"
   ]
  },
  {
   "cell_type": "code",
   "execution_count": 7,
   "metadata": {},
   "outputs": [],
   "source": [
    "def commutator(A, B):\n",
    "    return A @ B - B @ A"
   ]
  },
  {
   "cell_type": "code",
   "execution_count": 8,
   "metadata": {},
   "outputs": [
    {
     "name": "stdout",
     "output_type": "stream",
     "text": [
      "A and B commute.\n"
     ]
    }
   ],
   "source": [
    "if not np.any(commutator(A, B)):\n",
    "    print('A and B commute.')\n",
    "else:\n",
    "    raise ValueError('A and B do NOT commute as they should. Please check the code how they get created.')"
   ]
  },
  {
   "attachments": {},
   "cell_type": "markdown",
   "metadata": {},
   "source": [
    "#### Generate Check-Matrices $H^{x} = [A|B]$ and $H^{z} = [B^{T} | A^{T}]$."
   ]
  },
  {
   "attachments": {},
   "cell_type": "markdown",
   "metadata": {},
   "source": [
    "Here, the vertical bar indicates stacking the matrices horizontally and $T$ means the matrix transposition. As a check, both Hx and Hz should have the dimension $(n/2)$ x $n$"
   ]
  },
  {
   "cell_type": "code",
   "execution_count": 9,
   "metadata": {},
   "outputs": [],
   "source": [
    "def generate_check_matrices(A, B):\n",
    "    \"\"\"\n",
    "    Generate check matrices Hx and Hz.\n",
    "\n",
    "    Parameters:\n",
    "        A (numpy.ndarray): The matrix A.\n",
    "        B (numpy.ndarray): The matrix B.\n",
    "\n",
    "    Returns:\n",
    "        Hx (numpy.ndarray): The check matrix Hx.\n",
    "        Hz (numpy.ndarray): The check matrix Hz.\n",
    "    \"\"\"\n",
    "    # Ensure that A and B have compatible dimensions\n",
    "    if A.shape[0] != B.shape[0]:\n",
    "        raise ValueError(\"A and B must have the same number of rows\")\n",
    "\n",
    "    # Calculate dimensions\n",
    "    n = A.shape[1] + B.shape[1]\n",
    "\n",
    "    # Create the check matrix Hx by horizontally stacking A and B\n",
    "    Hx = np.hstack((A, B))\n",
    "\n",
    "    # Create the check matrix Hz by horizontally stacking the transpose of B and A\n",
    "    Hz = np.hstack((B.T, A.T))\n",
    "\n",
    "    assert Hx.shape == (n/2, n) and Hz.shape == (n/2, n), \"Hx and Hz must be of dimension (n/2, n).\"\n",
    "    return Hx, Hz"
   ]
  },
  {
   "cell_type": "code",
   "execution_count": 10,
   "metadata": {},
   "outputs": [],
   "source": [
    "Hx, Hz = generate_check_matrices(A, B)"
   ]
  },
  {
   "cell_type": "code",
   "execution_count": 11,
   "metadata": {},
   "outputs": [],
   "source": [
    "def check_commute(Hx, Hz):\n",
    "    if not np.any((Hx @ Hz.T) % 2):\n",
    "        print('X and Z checks commute.')\n",
    "    else:\n",
    "        raise ValueError('X and Z checks do NOT commute as they should. Please check the code how they get created.')"
   ]
  },
  {
   "cell_type": "code",
   "execution_count": 12,
   "metadata": {},
   "outputs": [
    {
     "name": "stdout",
     "output_type": "stream",
     "text": [
      "X and Z checks commute.\n"
     ]
    }
   ],
   "source": [
    "check_commute(Hx, Hz)"
   ]
  },
  {
   "attachments": {},
   "cell_type": "markdown",
   "metadata": {},
   "source": [
    "#### Obtain the code parameters $n, k, d$ of the **LDPC** code"
   ]
  },
  {
   "attachments": {},
   "cell_type": "markdown",
   "metadata": {},
   "source": [
    "##### Physical Data qubits $n$"
   ]
  },
  {
   "cell_type": "code",
   "execution_count": 13,
   "metadata": {},
   "outputs": [
    {
     "name": "stdout",
     "output_type": "stream",
     "text": [
      "Number of PHYSICAL DATA qubits: 128\n"
     ]
    }
   ],
   "source": [
    "n = 2*l*m\n",
    "print('Number of PHYSICAL DATA qubits:', n)"
   ]
  },
  {
   "attachments": {},
   "cell_type": "markdown",
   "metadata": {},
   "source": [
    "##### Logical qubits $k$"
   ]
  },
  {
   "attachments": {},
   "cell_type": "markdown",
   "metadata": {},
   "source": [
    "Two approaches to calculate the number of logical qubits $k$:\n",
    "- $k = n - \\text{rank}(H^{x}) - \\text{rank}(H^{z})$\n",
    "- $k = 2 \\cdot \\text{dim}(\\text{ker}(A) ∩ \\text{ker}(B))$\n",
    "\n",
    "Their equivalence is shown in Lemma 1 on page 10."
   ]
  },
  {
   "cell_type": "code",
   "execution_count": 14,
   "metadata": {},
   "outputs": [],
   "source": [
    "def binary_row_reduction(H):\n",
    "    \"\"\"\n",
    "    Perform row reduction on a binary matrix H over the field F2.\n",
    "    \"\"\"\n",
    "    # Copy of H to avoid modifying the original matrix\n",
    "    R = H.copy()\n",
    "\n",
    "    # Number of rows and columns\n",
    "    rows, cols = R.shape\n",
    "\n",
    "    # Row reduction\n",
    "    row = 0\n",
    "    for col in range(cols):\n",
    "        if row >= rows:\n",
    "            break\n",
    "\n",
    "        # Find a row with a 1 in the current column\n",
    "        for i in range(row, rows):\n",
    "            if R[i, col] == 1:\n",
    "                R[[row, i]] = R[[i, row]]  # Swap rows\n",
    "                break\n",
    "        else:\n",
    "            continue\n",
    "\n",
    "        # Eliminate 1s in the current column from other rows\n",
    "        for i in range(rows):\n",
    "            if i != row and R[i, col] == 1:\n",
    "                R[i] = (R[i] + R[row]) % 2\n",
    "\n",
    "        row += 1\n",
    "\n",
    "    return R\n",
    "\n",
    "def binary_matrix_rank(H):\n",
    "    \"\"\"\n",
    "    Compute the rank of a binary matrix H over the field F2.\n",
    "    \"\"\"\n",
    "    # Perform row reduction\n",
    "    row_reduced_H = binary_row_reduction(H)\n",
    "\n",
    "    # Count the number of non-zero rows\n",
    "    rank = sum(np.any(row) for row in row_reduced_H)\n",
    "    return rank"
   ]
  },
  {
   "cell_type": "code",
   "execution_count": 15,
   "metadata": {},
   "outputs": [
    {
     "name": "stdout",
     "output_type": "stream",
     "text": [
      "Number of LOGICAL qubits: 16\n"
     ]
    }
   ],
   "source": [
    "k = n - binary_matrix_rank(Hx) - binary_matrix_rank(Hz)\n",
    "print('Number of LOGICAL qubits:', k)"
   ]
  },
  {
   "attachments": {},
   "cell_type": "markdown",
   "metadata": {},
   "source": [
    "#### Net encoding rate $r = \\frac{k}{2n}$"
   ]
  },
  {
   "cell_type": "code",
   "execution_count": 16,
   "metadata": {},
   "outputs": [],
   "source": [
    "def get_net_encoding_rate(k, n):\n",
    "    return k / (2*n)"
   ]
  },
  {
   "cell_type": "code",
   "execution_count": 17,
   "metadata": {},
   "outputs": [
    {
     "name": "stdout",
     "output_type": "stream",
     "text": [
      "Net encoding rate: 0.0625\n"
     ]
    }
   ],
   "source": [
    "r = get_net_encoding_rate(k, n)\n",
    "print('Net encoding rate:', r)"
   ]
  },
  {
   "attachments": {},
   "cell_type": "markdown",
   "metadata": {},
   "source": [
    "#### Using the MIP package"
   ]
  },
  {
   "cell_type": "code",
   "execution_count": 18,
   "metadata": {},
   "outputs": [],
   "source": [
    "# computes the minimum Hamming weight of a binary vector x such that\n",
    "# stab @ x = 0 mod 2\n",
    "# logicOp @ x = 1 mod 2\n",
    "# here stab is a binary matrix and logicOp is a binary vector\n",
    "def distance_test(stab, logicOp):\n",
    "  # number of qubits\n",
    "  n = stab.shape[1]\n",
    "  # number of stabilizers\n",
    "  m = stab.shape[0]\n",
    "\n",
    "  # maximum stabilizer weight\n",
    "  wstab = np.max([np.sum(stab[i,:]) for i in range(m)])\n",
    "  # weight of the logical operator\n",
    "  wlog = np.count_nonzero(logicOp)\n",
    "  # how many slack variables are needed to express orthogonality constraints modulo two\n",
    "  num_anc_stab = int(np.ceil(np.log2(wstab)))\n",
    "  num_anc_logical = int(np.ceil(np.log2(wlog)))\n",
    "  # total number of variables\n",
    "  num_var = n + m*num_anc_stab + num_anc_logical\n",
    "\n",
    "  model = Model()\n",
    "  model.verbose = 0\n",
    "  x = [model.add_var(var_type=BINARY) for i in range(num_var)]\n",
    "  model.objective = minimize(xsum(x[i] for i in range(n)))\n",
    "\n",
    "  # orthogonality to rows of stab constraints\n",
    "  for row in range(m):\n",
    "    weight = [0]*num_var\n",
    "    supp = np.nonzero(stab[row,:])[0]\n",
    "    for q in supp:\n",
    "      weight[q] = 1\n",
    "    cnt = 1\n",
    "    for q in range(num_anc_stab):\n",
    "      weight[n + row*num_anc_stab +q] = -(1<<cnt)\n",
    "      cnt+=1\n",
    "    model+= xsum(weight[i] * x[i] for i in range(num_var)) == 0\n",
    "\n",
    "  # odd overlap with logicOp constraint\n",
    "  supp = np.nonzero(logicOp)[0]\n",
    "  weight = [0]*num_var\n",
    "  for q in supp:\n",
    "    weight[q] = 1\n",
    "  cnt = 1\n",
    "  for q in range(num_anc_logical):\n",
    "      weight[n + m*num_anc_stab +q] = -(1<<cnt)\n",
    "      cnt+=1\n",
    "  model+= xsum(weight[i] * x[i] for i in range(num_var)) == 1\n",
    "\n",
    "  model.optimize()\n",
    "\n",
    "  opt_val = sum([x[i].x for i in range(n)])\n",
    "\n",
    "  return int(opt_val)\n",
    "\n",
    "\n",
    "def distance_test_parallel(stab, logicOp):\n",
    "    n = stab.shape[1]  # number of qubits\n",
    "    m = stab.shape[0]  # number of stabilizers\n",
    "\n",
    "    # Parallel computation of wstab\n",
    "    with ThreadPoolExecutor() as executor:\n",
    "        wstab_list = list(executor.map(np.sum, stab))\n",
    "    wstab = np.max(wstab_list)\n",
    "\n",
    "    wlog = np.count_nonzero(logicOp)\n",
    "    num_anc_stab = int(np.ceil(np.log2(wstab)))\n",
    "    num_anc_logical = int(np.ceil(np.log2(wlog)))\n",
    "    num_var = n + m * num_anc_stab + num_anc_logical\n",
    "\n",
    "    model = Model()\n",
    "    model.verbose = 0\n",
    "    x = [model.add_var(var_type=BINARY) for i in range(num_var)]\n",
    "    model.objective = minimize(xsum(x[i] for i in range(n)))\n",
    "\n",
    "    # Function to prepare and add a constraint for a row of stab\n",
    "    def add_stab_constraint(row):\n",
    "        weight = [0] * num_var\n",
    "        supp = np.nonzero(stab[row, :])[0]\n",
    "        for q in supp:\n",
    "            weight[q] = 1\n",
    "        cnt = 1\n",
    "        for q in range(num_anc_stab):\n",
    "            weight[n + row * num_anc_stab + q] = -(1 << cnt)\n",
    "            cnt += 1\n",
    "        return xsum(weight[i] * x[i] for i in range(num_var)) == 0\n",
    "\n",
    "    # Parallel addition of orthogonality constraints\n",
    "    with ThreadPoolExecutor() as executor:\n",
    "        constraints = list(executor.map(add_stab_constraint, range(m)))\n",
    "    for constraint in constraints:\n",
    "        model += constraint\n",
    "\n",
    "    # Adding odd overlap with logicOp constraint (not parallelized)\n",
    "    supp = np.nonzero(logicOp)[0]\n",
    "    weight = [0] * num_var\n",
    "    for q in supp:\n",
    "        weight[q] = 1\n",
    "    cnt = 1\n",
    "    for q in range(num_anc_logical):\n",
    "        weight[n + m * num_anc_stab + q] = -(1 << cnt)\n",
    "        cnt += 1\n",
    "    model += xsum(weight[i] * x[i] for i in range(num_var)) == 1\n",
    "\n",
    "    model.optimize()\n",
    "    opt_val = sum(x[i].x for i in range(n))\n",
    "\n",
    "    return int(opt_val)"
   ]
  },
  {
   "attachments": {},
   "cell_type": "markdown",
   "metadata": {},
   "source": [
    "#### Evaluation of a single code with a fixed set of parameters"
   ]
  },
  {
   "cell_type": "code",
   "execution_count": 42,
   "metadata": {},
   "outputs": [],
   "source": [
    "# Code parameters\n",
    "ell, m = 6, 6\n",
    "a1, a2, a3, a4 = 4, 4, 2, 4\n",
    "b1, b2, b3, b4 = 4, 4, 2, 4\n",
    "\n",
    "n = 2*ell*m\n",
    "n2 = ell*m\n",
    "\n",
    "# define cyclic shift matrices\n",
    "I_ell = np.identity(ell, dtype=int)\n",
    "I_m = np.identity(m, dtype=int)\n",
    "I = np.identity(ell*m, dtype=int)\n",
    "x = {}\n",
    "y = {}\n",
    "for i in range(ell):\n",
    "\tx[i] = np.kron(np.roll(I_ell, i, axis=1), I_m)\n",
    "for i in range(m):\n",
    "\ty[i] = np.kron(I_ell, np.roll(I_m, i, axis=1))\n",
    "\n",
    "# define check matrices\n",
    "A = (x[a1] + y[a2] + y[a3] + y[a4]) % 2\n",
    "B = (y[b1] + x[b2] + x[b3] + x[b4]) % 2\n",
    "\n",
    "AT = np.transpose(A)\n",
    "BT = np.transpose(B)\n",
    "hx = np.hstack((A, B))\n",
    "hz = np.hstack((BT, AT))\n",
    "\n",
    "qcode=css_code(hx,hz)\n",
    "print('Testing CSS code...')\n",
    "qcode.test()\n",
    "print('Done')\n",
    "\n",
    "lz = qcode.lz\n",
    "lx = qcode.lx\n",
    "k = lz.shape[0]"
   ]
  },
  {
   "cell_type": "code",
   "execution_count": 45,
   "metadata": {},
   "outputs": [],
   "source": [
    "n_phys_qubits = qcode.N\n",
    "n_log_qubits = qcode.K\n",
    "\n",
    "print('Number of PHYSICAL DATA qubits:', n_phys_qubits)\n",
    "print('Number of LOGICAL qubits:', n_log_qubits)\n",
    "\n",
    "print('Net Encoding Rate:', get_net_encoding_rate(n_log_qubits, n_phys_qubits))"
   ]
  },
  {
   "cell_type": "code",
   "execution_count": null,
   "metadata": {},
   "outputs": [],
   "source": [
    "start_time = time.time()\n",
    "\n",
    "print('Computing code distance PARALLELIZED...')\n",
    "# We compute the distance only for Z-type logical operators (the distance for X-type logical operators is the same)\n",
    "# by solving an integer linear program (ILP). The ILP looks for a minimum weight Pauli Z-type operator which has an even overlap with each X-check\n",
    "# and an odd overlap with logical-X operator on the i-th logical qubit. Let w_i be the optimal value of this ILP.\n",
    "# Then the code distance for Z-type logical operators is dZ = min(w_1,…,w_k).\n",
    "d = n\n",
    "for i in range(k):\n",
    "\tw = distance_test_parallel(hx, lx[i,:])\n",
    "\tprint('Logical qubit =', i+1, 'Distance =', w)\n",
    "\td = min(d, w)\n",
    "\n",
    "print(f'\\nCode parameters: [n, k, d] = [{n}, {k}, {d}]')\n",
    "\n",
    "print('Execution Time: ', round(time.time() - start_time, 1), 'seconds')"
   ]
  },
  {
   "cell_type": "code",
   "execution_count": null,
   "metadata": {},
   "outputs": [],
   "source": [
    "start_time = time.time()\n",
    "print('Computing code distance...')\n",
    "# We compute the distance only for Z-type logical operators (the distance for X-type logical operators is the same)\n",
    "# by solving an integer linear program (ILP). The ILP looks for a minimum weight Pauli Z-type operator which has an even overlap with each X-check\n",
    "# and an odd overlap with logical-X operator on the i-th logical qubit. Let w_i be the optimal value of this ILP.\n",
    "# Then the code distance for Z-type logical operators is dZ = min(w_1,…,w_k).\n",
    "d = n\n",
    "for i in range(k):\n",
    "\tw = distance_test_parallel(hx, lx[i,:])\n",
    "\tprint('Logical qubit =', i+1, 'Distance =', w)\n",
    "\td = min(d, w)\n",
    "\n",
    "print(f'\\nCode parameters: [n, k, d] = [{n}, {k}, {d}]')\n",
    "print('Execution Time: ', round(time.time() - start_time, 1), 'seconds')"
   ]
  },
  {
   "attachments": {},
   "cell_type": "markdown",
   "metadata": {},
   "source": [
    "### Reproduction of codes in the paper"
   ]
  },
  {
   "cell_type": "code",
   "execution_count": null,
   "metadata": {},
   "outputs": [],
   "source": [
    "l_m = [(6, 6), (15, 3), (9, 6), (12, 6), (12, 12), (30, 6), (21, 18)]\n",
    "\n",
    "A_B_polynomials = [\n",
    "    ('x3 + y + y2', 'y3 + x + x2'),\n",
    "    ('x9 + y + y2', '1 + x2 + x7'),\n",
    "    ('x3 + y + y2', 'y3 + x + x2'),\n",
    "    ('x3 + y + y2', 'y3 + x + x2'),\n",
    "    ('x3 + y2 + y7', 'y3 + x + x2'),\n",
    "    ('x9 + y + y2', 'y3 + x25 + x26'),\n",
    "    ('x3 + y10 + y17', 'y5 + x3 + x19')\n",
    "]"
   ]
  },
  {
   "cell_type": "code",
   "execution_count": null,
   "metadata": {},
   "outputs": [],
   "source": [
    "for ind, code_config in enumerate(A_B_polynomials):\n",
    "    l, m  = l_m[ind]\n",
    "    A_polynomial, B_polynomial = code_config\n",
    "\n",
    "    # Create the identity matrices I_ℓ and I_m\n",
    "    I_l = np.eye(l)\n",
    "    I_m = np.eye(m)\n",
    "\n",
    "    # Create the cyclic shift matrices S_ℓ and S_m\n",
    "    S_l = get_cyclic_shift_matrix_S(l)\n",
    "    S_m = get_cyclic_shift_matrix_S(m)\n",
    "\n",
    "    # Create matrices x and y based on the tensor product\n",
    "    x = np.kron(S_l, I_m)\n",
    "    y = np.kron(I_l, S_m)\n",
    "\n",
    "    A = get_matrix_polynomial(A_polynomial, x, y)\n",
    "    B = get_matrix_polynomial(B_polynomial, x, y)\n",
    "\n",
    "    Hx, Hz = generate_check_matrices(A, B)\n",
    "    check_commute(Hx, Hz)\n",
    "\n",
    "    # Calculate code parameters\n",
    "    n = 2*l*m\n",
    "    k = n - binary_matrix_rank(Hx) - binary_matrix_rank(Hz)\n",
    "\n",
    "    print(f'Code Config l={l}, m={m}')\n",
    "    print(f'[[n, k, d]]: [[{n}, {k}, d]]\\n')"
   ]
  }
 ],
 "metadata": {
  "kernelspec": {
   "display_name": "Python 3",
   "language": "python",
   "name": "python3"
  },
  "language_info": {
   "codemirror_mode": {
    "name": "ipython",
    "version": 3
   },
   "file_extension": ".py",
   "mimetype": "text/x-python",
   "name": "python",
   "nbconvert_exporter": "python",
   "pygments_lexer": "ipython3",
   "version": "3.9.6"
  },
  "orig_nbformat": 4
 },
 "nbformat": 4,
 "nbformat_minor": 2
}
